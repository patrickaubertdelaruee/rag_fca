{
 "cells": [
  {
   "cell_type": "code",
   "execution_count": 1,
   "id": "10f90c12-1184-46bb-96fd-2ad1f1c4672e",
   "metadata": {},
   "outputs": [
    {
     "name": "stderr",
     "output_type": "stream",
     "text": [
      "/home/tibor/.cache/pypoetry/virtualenvs/rag-fca-YesdNZeI-py3.11/lib/python3.11/site-packages/sentence_transformers/cross_encoder/CrossEncoder.py:11: TqdmExperimentalWarning: Using `tqdm.autonotebook.tqdm` in notebook mode. Use `tqdm.tqdm` instead to force console mode (e.g. in jupyter console)\n",
      "  from tqdm.autonotebook import tqdm, trange\n"
     ]
    }
   ],
   "source": [
    "import os\n",
    "from pathlib import Path\n",
    "\n",
    "import cohere\n",
    "import pypdf\n",
    "import weaviate\n",
    "import weaviate.classes.config as wc\n",
    "import weaviate.classes.query as wq\n",
    "from dotenv import load_dotenv\n",
    "from langchain_text_splitters import RecursiveCharacterTextSplitter\n",
    "from sentence_transformers import SentenceTransformer"
   ]
  },
  {
   "cell_type": "code",
   "execution_count": 2,
   "id": "000ee9a0-ce90-4ed7-93a6-e61ee68800fd",
   "metadata": {},
   "outputs": [
    {
     "data": {
      "text/plain": [
       "True"
      ]
     },
     "execution_count": 2,
     "metadata": {},
     "output_type": "execute_result"
    }
   ],
   "source": [
    "load_dotenv()"
   ]
  },
  {
   "cell_type": "code",
   "execution_count": 3,
   "id": "7fa4ce85-0632-4050-8d86-10d4f29f1a25",
   "metadata": {},
   "outputs": [
    {
     "data": {
      "text/plain": [
       "True"
      ]
     },
     "execution_count": 3,
     "metadata": {},
     "output_type": "execute_result"
    }
   ],
   "source": [
    "headers = {}\n",
    "# In case the cohere vectorizer is used - watch out for limits\n",
    "# headers.update({\"X-Cohere-Api-Key\": os.getenv(\"COHERE_API_KEY\"))\n",
    "client_weaviate = weaviate.connect_to_local(headers=headers)\n",
    "client_weaviate.is_ready()"
   ]
  },
  {
   "cell_type": "code",
   "execution_count": 4,
   "id": "b05904d7-46cf-4443-be57-2286ad86ca4b",
   "metadata": {},
   "outputs": [
    {
     "data": {
      "text/plain": [
       "<weaviate.collections.collection.Collection at 0x7f51c0410390>"
      ]
     },
     "execution_count": 4,
     "metadata": {},
     "output_type": "execute_result"
    }
   ],
   "source": [
    "client_weaviate.collections.delete(\"FCA\")\n",
    "client_weaviate.collections.create(\n",
    "    name=\"FCA\",\n",
    "    properties=[\n",
    "        wc.Property(name=\"idx\", data_type=wc.DataType.INT, skip_vectorization=True),\n",
    "        wc.Property(name=\"text\", data_type=wc.DataType.TEXT),\n",
    "    ],\n",
    "    # Define the vectorizer module\n",
    "    # vectorizer_config=wc.Configure.Vectorizer.text2vec_cohere(),\n",
    "    # vectorizer_config=wc.Configure.Vectorizer.text2vec_huggingface(model=\"sentence-transformers/all-MiniLM-L6-v2\"),\n",
    "    # Define the generative module\n",
    "    generative_config=wc.Configure.Generative.cohere()\n",
    ")"
   ]
  },
  {
   "cell_type": "code",
   "execution_count": 5,
   "id": "0da00b8f-f70a-4fc5-b0db-d427a51b4794",
   "metadata": {},
   "outputs": [],
   "source": [
    "def extract_text_from_pdf(pdf_file_name: Path) -> str:\n",
    "    pdf_file = pypdf.PdfReader(pdf_file_name)\n",
    "    return \" \".join((page.extract_text() for page in pdf_file.pages))"
   ]
  },
  {
   "cell_type": "code",
   "execution_count": 6,
   "id": "79932cc8-feca-4431-8516-a7c977b870b6",
   "metadata": {},
   "outputs": [],
   "source": [
    "def chunk_text(input_text: str, chunk_size: int, chunk_overlap: int) -> list:\n",
    "    text_splitter = RecursiveCharacterTextSplitter(\n",
    "        chunk_size=chunk_size,\n",
    "        chunk_overlap=chunk_overlap,\n",
    "        length_function=len,\n",
    "        is_separator_regex=False,\n",
    "    )\n",
    "    return text_splitter.create_documents([input_text])"
   ]
  },
  {
   "cell_type": "code",
   "execution_count": 7,
   "id": "5800230f-05a9-4ee5-a72b-6d016fc700a8",
   "metadata": {},
   "outputs": [
    {
     "name": "stderr",
     "output_type": "stream",
     "text": [
      "/home/tibor/.cache/pypoetry/virtualenvs/rag-fca-YesdNZeI-py3.11/lib/python3.11/site-packages/huggingface_hub/file_download.py:1132: FutureWarning: `resume_download` is deprecated and will be removed in version 1.0.0. Downloads always resume when possible. If you want to force a new download, use `force_download=True`.\n",
      "  warnings.warn(\n"
     ]
    },
    {
     "name": "stdout",
     "output_type": "stream",
     "text": [
      "Processing FCA1189-04.pdf...\n",
      "Processing FCA1190-18.pdf...\n",
      "Processing FCA1192-57.pdf...\n",
      "Processing FCA1312-08.pdf...\n",
      "Processing FCA1319-16.pdf...\n",
      "Processing FCA1382-06.pdf...\n",
      "Processing FCA1537-03.pdf...\n",
      "Processing FCA1725-25.pdf...\n",
      "Processing FCA3947-13.pdf...\n",
      "Processing FCA4431-27.pdf...\n",
      "Processing FCA4520-50.pdf...\n",
      "Processing FCA4853-07.pdf...\n",
      "Processing FCA4854-11.pdf...\n",
      "Processing Overview Introducing AMS Components (FCA1318).pdf...\n",
      "FINISHED - create embeddings\n"
     ]
    }
   ],
   "source": [
    "# Use sentence-transformer which does the computation locally\n",
    "\n",
    "root_dir = Path(os.getenv(\"PDF_DIR\"))\n",
    "chunk_size = int(os.getenv(\"CHUNK_SIZE\"))\n",
    "chunk_overlap = int(os.getenv(\"CHUNK_OVERLAP\"))\n",
    "\n",
    "model = SentenceTransformer(\"all-MiniLM-L6-v2\")\n",
    "collection = client_weaviate.collections.get(\"FCA\")\n",
    "\n",
    "for pdf_file_name in root_dir.glob(\"*.pdf\"):\n",
    "    print(f\"Processing {pdf_file_name.name}...\")\n",
    "    text = extract_text_from_pdf(pdf_file_name)\n",
    "    chunked_text = chunk_text(text, chunk_size, chunk_overlap)\n",
    "    for idx, chunk in enumerate(chunked_text):\n",
    "        content = chunk.page_content\n",
    "        collection.data.insert(\n",
    "            {\n",
    "                \"idx\": idx,\n",
    "                \"title\": pdf_file_name.name,\n",
    "                \"text\": content,\n",
    "            },\n",
    "            vector=model.encode(content),\n",
    "        )\n",
    "print(\"FINISHED - create embeddings\")"
   ]
  },
  {
   "cell_type": "code",
   "execution_count": 8,
   "id": "80ca05bc-58a2-4715-a13b-3422c5f84e31",
   "metadata": {},
   "outputs": [
    {
     "name": "stdout",
     "output_type": "stream",
     "text": [
      "Inserted 11685 embeddings\n"
     ]
    }
   ],
   "source": [
    "collection = client_weaviate.collections.get(\"FCA\")\n",
    "print(f\"Inserted {len(collection)} embeddings\")"
   ]
  },
  {
   "cell_type": "code",
   "execution_count": 9,
   "id": "f7323526-d4a8-42ee-aa9b-9813232489be",
   "metadata": {},
   "outputs": [],
   "source": [
    "def get_near_vectors(collection_name: str, query_text: str, limit: int):\n",
    "    collection = client_weaviate.collections.get(collection_name)\n",
    "    embedding = model.encode(query_text).tolist()\n",
    "    return collection.query.near_vector(\n",
    "        near_vector=embedding,\n",
    "        limit=limit,\n",
    "        return_metadata=wq.MetadataQuery(distance=True),\n",
    "        return_properties=[\"idx\", \"text\", \"title\", ],\n",
    "    )"
   ]
  },
  {
   "cell_type": "code",
   "execution_count": 26,
   "id": "7b7624ab-5cb9-4772-9bb7-93e6905e68b5",
   "metadata": {},
   "outputs": [
    {
     "name": "stdout",
     "output_type": "stream",
     "text": [
      "Final answer:\n",
      "The setting PermissionModelActive is mentioned in the following documents:\n",
      "- FCA1190-18.pdf\n",
      "- FCA1725-25.pdf\n",
      "\n",
      "FCA1190-18.pdf explains that PermissionModelActive remains static and cannot be altered at runtime. It also provides information on how the PermissionModelActive flag interacts with the PermissionModel flag: the combination of the two flags' settings has some forbidden outcomes, which are illustrated in a table. Meanwhile, FCA1725-25.pdf indicates that the setting is useful when some users adopt the AMS model and others use the ADS model. It also states that the PermissionModelActive value affects the PrimaryDomain value:\n",
      "- If PermissionModelActive is 0 or 2, the PrimaryDomain value must be ignored and left empty.\n",
      "- If PermissionModelActive is 1 or 3, the PrimaryDomain value must be defined.\n"
     ]
    }
   ],
   "source": [
    "preamble = \"\"\"\n",
    "## Task & Context\n",
    "You help people answer their questions and other requests interactively. You will\n",
    "be asked a very wide array of requests on all kinds of topics. You will be\n",
    "equipped with a wide range of search engines or similar tools to help you,\n",
    "which you use to research your answer. You should focus on serving the user's\n",
    "needs as best you can, which will be wide-ranging.\n",
    "\n",
    "## Style Guide\n",
    "Unless the user asks for a different style of answer, you should answer in\n",
    "full sentences, using proper grammar and spelling.\n",
    "\"\"\"\n",
    "\n",
    "near_vectors = get_near_vectors(\"FCA\", \"PermissionModelActive\", 4)\n",
    "context = [\n",
    "    {\"title\": str(vector.properties[\"title\"]), \"snippet\": vector.properties[\"text\"]}\n",
    "    for vector in near_vectors.objects\n",
    "]\n",
    "query = \"Explain the setting PermissionModelActive. List the title of the documents.\"\n",
    "\n",
    "client_cohere = cohere.Client(os.getenv(\"COHERE_API_KEY\"))\n",
    "chat_response = client_cohere.chat(\n",
    "  message=query,\n",
    "  documents=context,\n",
    "  preamble=preamble,\n",
    "  model=\"command-r\",\n",
    "  temperature=0.3\n",
    ")\n",
    "\n",
    "print(\"Final answer:\")\n",
    "print(chat_response.text)"
   ]
  },
  {
   "cell_type": "code",
   "execution_count": null,
   "id": "294a44b3-169e-4a0c-b3b7-e660f07a5a22",
   "metadata": {},
   "outputs": [],
   "source": []
  }
 ],
 "metadata": {
  "kernelspec": {
   "display_name": "Python 3 (ipykernel)",
   "language": "python",
   "name": "python3"
  },
  "language_info": {
   "codemirror_mode": {
    "name": "ipython",
    "version": 3
   },
   "file_extension": ".py",
   "mimetype": "text/x-python",
   "name": "python",
   "nbconvert_exporter": "python",
   "pygments_lexer": "ipython3",
   "version": "3.11.9"
  }
 },
 "nbformat": 4,
 "nbformat_minor": 5
}
